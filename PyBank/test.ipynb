{
 "cells": [
  {
   "cell_type": "code",
   "execution_count": 1,
   "metadata": {},
   "outputs": [],
   "source": [
    "import pathlib\n",
    "import csv"
   ]
  },
  {
   "cell_type": "code",
   "execution_count": 3,
   "metadata": {},
   "outputs": [],
   "source": [
    "working_dir = pathlib.Path.cwd()\n",
    "data_path = working_dir / \"resources\" / \"budget_data.csv\""
   ]
  },
  {
   "cell_type": "code",
   "execution_count": 4,
   "metadata": {},
   "outputs": [],
   "source": [
    "file = data_path.open(mode=\"r\", encoding=\"utf-8\", newline=\"\")\n",
    "reader = csv.reader(file)\n",
    "\n",
    "\n",
    "row_counter = 1\n",
    "dates = []\n",
    "profit_loss = []\n",
    "for row in reader:\n",
    "    if row_counter == 1:\n",
    "        # store header row in header\n",
    "        header = row\n",
    "    else:\n",
    "        dates.append(row[0])\n",
    "        profit_loss.append(float(row[1]))\n",
    "\n",
    "    row_counter += 1\n",
    "\n",
    "numMonths = len(dates)\n"
   ]
  },
  {
   "cell_type": "code",
   "execution_count": 6,
   "metadata": {},
   "outputs": [],
   "source": [
    "total_profit_loss = 0\n",
    "last_month_profit_loss = profit_loss[:-1]\n",
    "last_month_profit_loss.insert(0, 0)\n",
    "\n",
    "monthly_diff = []\n",
    "for month in range(numMonths):\n",
    "    total_profit_loss += profit_loss[month]\n",
    "    diff = profit_loss[month] - last_month_profit_loss[month]\n",
    "    monthly_diff.append(diff)\n",
    "\n",
    "# need to set the first month difference to 0 as we don't have the previous months info\n",
    "monthly_diff[0] = 0\n",
    "\n",
    "# monthly_diff\n"
   ]
  },
  {
   "cell_type": "code",
   "execution_count": 7,
   "metadata": {},
   "outputs": [],
   "source": [
    "total_profit_loss = 0\n",
    "total_change_in_profit_loss = 0\n",
    "for i in range(numMonths):\n",
    "    total_profit_loss += profit_loss[i]\n",
    "    total_change_in_profit_loss += monthly_diff[i]\n",
    "avg_change_profit_loss = total_change_in_profit_loss / (numMonths-1)\n",
    "#print(total_profit_loss, avg_change_profit_loss)"
   ]
  },
  {
   "cell_type": "code",
   "execution_count": 8,
   "metadata": {},
   "outputs": [],
   "source": [
    "max_profit_index = monthly_diff.index(max(monthly_diff))\n",
    "max_profit_month = dates[max_profit_index]\n",
    "max_profit_amt = monthly_diff[max_profit_index]\n",
    "# print(max_profit_month, max_profit_amt)"
   ]
  },
  {
   "cell_type": "code",
   "execution_count": 9,
   "metadata": {},
   "outputs": [],
   "source": [
    "min_profit_index = monthly_diff.index(min(monthly_diff))\n",
    "min_profit_month = dates[min_profit_index]\n",
    "min_profit_amt = monthly_diff[min_profit_index]\n",
    "# print(min_profit_month, min_profit_amt)"
   ]
  },
  {
   "cell_type": "code",
   "execution_count": 17,
   "metadata": {},
   "outputs": [
    {
     "name": "stdout",
     "output_type": "stream",
     "text": [
      "Financial Analysis\n",
      "\n",
      "-----------------------------------\n",
      "\n",
      "Total Months: 86\n",
      "\n",
      "Total: $22564198\n",
      "\n",
      "Average change: $-8311.11\n",
      "\n",
      "Greatest Increase in Profits: Aug-16 ($1862002)\n",
      "\n",
      "Greatest Decrease in Profits: Feb-14 ($-1825558)\n",
      "\n",
      "\n"
     ]
    }
   ],
   "source": [
    "output_text = \\\n",
    "f\"\"\"Financial Analysis\\n\n",
    "-----------------------------------\\n\n",
    "Total Months: {numMonths}\\n\n",
    "Total: ${int(total_profit_loss)}\\n\n",
    "Average change: ${avg_change_profit_loss:.2f}\\n\n",
    "Greatest Increase in Profits: {max_profit_month} (${int(max_profit_amt)})\\n\n",
    "Greatest Decrease in Profits: {min_profit_month} (${int(min_profit_amt)})\\n\n",
    "\"\"\"\n",
    "\n",
    "\n",
    "print(output_text)\n"
   ]
  },
  {
   "cell_type": "code",
   "execution_count": 18,
   "metadata": {},
   "outputs": [],
   "source": [
    "output_file = working_dir / \"pybank_output.txt\"\n",
    "with output_file.open(mode=\"w\", encoding=\"utf-8\") as file:\n",
    "    file.write(output_text)"
   ]
  },
  {
   "cell_type": "code",
   "execution_count": null,
   "metadata": {},
   "outputs": [],
   "source": []
  }
 ],
 "metadata": {
  "kernelspec": {
   "display_name": "dev",
   "language": "python",
   "name": "python3"
  },
  "language_info": {
   "codemirror_mode": {
    "name": "ipython",
    "version": 3
   },
   "file_extension": ".py",
   "mimetype": "text/x-python",
   "name": "python",
   "nbconvert_exporter": "python",
   "pygments_lexer": "ipython3",
   "version": "3.10.13"
  }
 },
 "nbformat": 4,
 "nbformat_minor": 2
}
